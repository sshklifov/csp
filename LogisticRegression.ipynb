{
 "cells": [
  {
   "cell_type": "code",
   "execution_count": 1,
   "metadata": {},
   "outputs": [],
   "source": [
    "from __future__ import print_function\n",
    "from ipywidgets import interact, interactive, fixed, interact_manual\n",
    "import ipywidgets as widgets\n",
    "\n",
    "import numpy as np\n",
    "import matplotlib\n",
    "import matplotlib.pyplot as plt\n",
    "import pandas as pd\n",
    "import seaborn as sns\n",
    "\n",
    "%matplotlib inline\n",
    "\n",
    "import warnings\n",
    "warnings.simplefilter(action='ignore', category=FutureWarning)"
   ]
  },
  {
   "cell_type": "code",
   "execution_count": 2,
   "metadata": {},
   "outputs": [
    {
     "data": {
      "text/plain": [
       "(7613, 7)"
      ]
     },
     "execution_count": 2,
     "metadata": {},
     "output_type": "execute_result"
    }
   ],
   "source": [
    "df = pd.read_csv(\"~/Documents/csp/data2.csv\")\n",
    "df.shape"
   ]
  },
  {
   "cell_type": "code",
   "execution_count": 3,
   "metadata": {},
   "outputs": [
    {
     "data": {
      "text/html": [
       "<div>\n",
       "<style scoped>\n",
       "    .dataframe tbody tr th:only-of-type {\n",
       "        vertical-align: middle;\n",
       "    }\n",
       "\n",
       "    .dataframe tbody tr th {\n",
       "        vertical-align: top;\n",
       "    }\n",
       "\n",
       "    .dataframe thead th {\n",
       "        text-align: right;\n",
       "    }\n",
       "</style>\n",
       "<table border=\"1\" class=\"dataframe\">\n",
       "  <thead>\n",
       "    <tr style=\"text-align: right;\">\n",
       "      <th></th>\n",
       "      <th>n</th>\n",
       "      <th>subtree_cnt</th>\n",
       "      <th>depth</th>\n",
       "      <th>height</th>\n",
       "      <th>loexpect</th>\n",
       "      <th>hiexpect</th>\n",
       "      <th>rnd</th>\n",
       "    </tr>\n",
       "  </thead>\n",
       "  <tbody>\n",
       "    <tr>\n",
       "      <th>0</th>\n",
       "      <td>9</td>\n",
       "      <td>2</td>\n",
       "      <td>4</td>\n",
       "      <td>1</td>\n",
       "      <td>3.767442</td>\n",
       "      <td>5.232558</td>\n",
       "      <td>4.0</td>\n",
       "    </tr>\n",
       "    <tr>\n",
       "      <th>1</th>\n",
       "      <td>9</td>\n",
       "      <td>1</td>\n",
       "      <td>5</td>\n",
       "      <td>0</td>\n",
       "      <td>4.302326</td>\n",
       "      <td>4.697674</td>\n",
       "      <td>4.0</td>\n",
       "    </tr>\n",
       "    <tr>\n",
       "      <th>2</th>\n",
       "      <td>9</td>\n",
       "      <td>6</td>\n",
       "      <td>1</td>\n",
       "      <td>4</td>\n",
       "      <td>7.395349</td>\n",
       "      <td>1.604651</td>\n",
       "      <td>4.0</td>\n",
       "    </tr>\n",
       "    <tr>\n",
       "      <th>3</th>\n",
       "      <td>9</td>\n",
       "      <td>4</td>\n",
       "      <td>2</td>\n",
       "      <td>3</td>\n",
       "      <td>2.534884</td>\n",
       "      <td>6.465116</td>\n",
       "      <td>4.0</td>\n",
       "    </tr>\n",
       "    <tr>\n",
       "      <th>4</th>\n",
       "      <td>9</td>\n",
       "      <td>1</td>\n",
       "      <td>2</td>\n",
       "      <td>0</td>\n",
       "      <td>2.534884</td>\n",
       "      <td>6.465116</td>\n",
       "      <td>4.0</td>\n",
       "    </tr>\n",
       "  </tbody>\n",
       "</table>\n",
       "</div>"
      ],
      "text/plain": [
       "   n  subtree_cnt  depth  height  loexpect  hiexpect  rnd\n",
       "0  9            2      4       1  3.767442  5.232558  4.0\n",
       "1  9            1      5       0  4.302326  4.697674  4.0\n",
       "2  9            6      1       4  7.395349  1.604651  4.0\n",
       "3  9            4      2       3  2.534884  6.465116  4.0\n",
       "4  9            1      2       0  2.534884  6.465116  4.0"
      ]
     },
     "execution_count": 3,
     "metadata": {},
     "output_type": "execute_result"
    }
   ],
   "source": [
    "df.head(5)"
   ]
  },
  {
   "cell_type": "code",
   "execution_count": 4,
   "metadata": {},
   "outputs": [
    {
     "data": {
      "text/html": [
       "<div>\n",
       "<style scoped>\n",
       "    .dataframe tbody tr th:only-of-type {\n",
       "        vertical-align: middle;\n",
       "    }\n",
       "\n",
       "    .dataframe tbody tr th {\n",
       "        vertical-align: top;\n",
       "    }\n",
       "\n",
       "    .dataframe thead th {\n",
       "        text-align: right;\n",
       "    }\n",
       "</style>\n",
       "<table border=\"1\" class=\"dataframe\">\n",
       "  <thead>\n",
       "    <tr style=\"text-align: right;\">\n",
       "      <th></th>\n",
       "      <th>n</th>\n",
       "      <th>subtree_cnt</th>\n",
       "      <th>depth</th>\n",
       "      <th>height</th>\n",
       "      <th>loexpect</th>\n",
       "      <th>hiexpect</th>\n",
       "      <th>rnd</th>\n",
       "      <th>alt</th>\n",
       "    </tr>\n",
       "  </thead>\n",
       "  <tbody>\n",
       "    <tr>\n",
       "      <th>0</th>\n",
       "      <td>9</td>\n",
       "      <td>2</td>\n",
       "      <td>4</td>\n",
       "      <td>1</td>\n",
       "      <td>3.767442</td>\n",
       "      <td>5.232558</td>\n",
       "      <td>4.0</td>\n",
       "      <td>3.767442</td>\n",
       "    </tr>\n",
       "    <tr>\n",
       "      <th>1</th>\n",
       "      <td>9</td>\n",
       "      <td>1</td>\n",
       "      <td>5</td>\n",
       "      <td>0</td>\n",
       "      <td>4.302326</td>\n",
       "      <td>4.697674</td>\n",
       "      <td>4.0</td>\n",
       "      <td>4.697674</td>\n",
       "    </tr>\n",
       "    <tr>\n",
       "      <th>2</th>\n",
       "      <td>9</td>\n",
       "      <td>6</td>\n",
       "      <td>1</td>\n",
       "      <td>4</td>\n",
       "      <td>7.395349</td>\n",
       "      <td>1.604651</td>\n",
       "      <td>4.0</td>\n",
       "      <td>1.604651</td>\n",
       "    </tr>\n",
       "    <tr>\n",
       "      <th>3</th>\n",
       "      <td>9</td>\n",
       "      <td>4</td>\n",
       "      <td>2</td>\n",
       "      <td>3</td>\n",
       "      <td>2.534884</td>\n",
       "      <td>6.465116</td>\n",
       "      <td>4.0</td>\n",
       "      <td>2.534884</td>\n",
       "    </tr>\n",
       "    <tr>\n",
       "      <th>4</th>\n",
       "      <td>9</td>\n",
       "      <td>1</td>\n",
       "      <td>2</td>\n",
       "      <td>0</td>\n",
       "      <td>2.534884</td>\n",
       "      <td>6.465116</td>\n",
       "      <td>4.0</td>\n",
       "      <td>2.534884</td>\n",
       "    </tr>\n",
       "    <tr>\n",
       "      <th>5</th>\n",
       "      <td>9</td>\n",
       "      <td>3</td>\n",
       "      <td>3</td>\n",
       "      <td>2</td>\n",
       "      <td>3.883721</td>\n",
       "      <td>5.116279</td>\n",
       "      <td>4.0</td>\n",
       "      <td>5.116279</td>\n",
       "    </tr>\n",
       "    <tr>\n",
       "      <th>6</th>\n",
       "      <td>9</td>\n",
       "      <td>1</td>\n",
       "      <td>1</td>\n",
       "      <td>0</td>\n",
       "      <td>5.790698</td>\n",
       "      <td>3.209302</td>\n",
       "      <td>4.0</td>\n",
       "      <td>3.209302</td>\n",
       "    </tr>\n",
       "    <tr>\n",
       "      <th>7</th>\n",
       "      <td>9</td>\n",
       "      <td>1</td>\n",
       "      <td>1</td>\n",
       "      <td>0</td>\n",
       "      <td>5.790698</td>\n",
       "      <td>3.209302</td>\n",
       "      <td>4.0</td>\n",
       "      <td>3.209302</td>\n",
       "    </tr>\n",
       "    <tr>\n",
       "      <th>8</th>\n",
       "      <td>14</td>\n",
       "      <td>6</td>\n",
       "      <td>1</td>\n",
       "      <td>2</td>\n",
       "      <td>11.251642</td>\n",
       "      <td>2.748358</td>\n",
       "      <td>6.5</td>\n",
       "      <td>2.748358</td>\n",
       "    </tr>\n",
       "    <tr>\n",
       "      <th>9</th>\n",
       "      <td>14</td>\n",
       "      <td>3</td>\n",
       "      <td>2</td>\n",
       "      <td>1</td>\n",
       "      <td>4.313477</td>\n",
       "      <td>9.686523</td>\n",
       "      <td>6.5</td>\n",
       "      <td>4.313477</td>\n",
       "    </tr>\n",
       "    <tr>\n",
       "      <th>10</th>\n",
       "      <td>14</td>\n",
       "      <td>2</td>\n",
       "      <td>1</td>\n",
       "      <td>1</td>\n",
       "      <td>9.759516</td>\n",
       "      <td>4.240484</td>\n",
       "      <td>6.5</td>\n",
       "      <td>4.240484</td>\n",
       "    </tr>\n",
       "    <tr>\n",
       "      <th>11</th>\n",
       "      <td>14</td>\n",
       "      <td>1</td>\n",
       "      <td>3</td>\n",
       "      <td>0</td>\n",
       "      <td>6.511333</td>\n",
       "      <td>7.488667</td>\n",
       "      <td>6.5</td>\n",
       "      <td>7.488667</td>\n",
       "    </tr>\n",
       "    <tr>\n",
       "      <th>12</th>\n",
       "      <td>14</td>\n",
       "      <td>1</td>\n",
       "      <td>3</td>\n",
       "      <td>0</td>\n",
       "      <td>6.511333</td>\n",
       "      <td>7.488667</td>\n",
       "      <td>6.5</td>\n",
       "      <td>7.488667</td>\n",
       "    </tr>\n",
       "    <tr>\n",
       "      <th>13</th>\n",
       "      <td>14</td>\n",
       "      <td>4</td>\n",
       "      <td>1</td>\n",
       "      <td>3</td>\n",
       "      <td>9.927878</td>\n",
       "      <td>4.072122</td>\n",
       "      <td>6.5</td>\n",
       "      <td>4.072122</td>\n",
       "    </tr>\n",
       "    <tr>\n",
       "      <th>14</th>\n",
       "      <td>14</td>\n",
       "      <td>1</td>\n",
       "      <td>4</td>\n",
       "      <td>0</td>\n",
       "      <td>6.073458</td>\n",
       "      <td>7.926542</td>\n",
       "      <td>6.5</td>\n",
       "      <td>6.073458</td>\n",
       "    </tr>\n",
       "  </tbody>\n",
       "</table>\n",
       "</div>"
      ],
      "text/plain": [
       "     n  subtree_cnt  depth  height   loexpect  hiexpect  rnd       alt\n",
       "0    9            2      4       1   3.767442  5.232558  4.0  3.767442\n",
       "1    9            1      5       0   4.302326  4.697674  4.0  4.697674\n",
       "2    9            6      1       4   7.395349  1.604651  4.0  1.604651\n",
       "3    9            4      2       3   2.534884  6.465116  4.0  2.534884\n",
       "4    9            1      2       0   2.534884  6.465116  4.0  2.534884\n",
       "5    9            3      3       2   3.883721  5.116279  4.0  5.116279\n",
       "6    9            1      1       0   5.790698  3.209302  4.0  3.209302\n",
       "7    9            1      1       0   5.790698  3.209302  4.0  3.209302\n",
       "8   14            6      1       2  11.251642  2.748358  6.5  2.748358\n",
       "9   14            3      2       1   4.313477  9.686523  6.5  4.313477\n",
       "10  14            2      1       1   9.759516  4.240484  6.5  4.240484\n",
       "11  14            1      3       0   6.511333  7.488667  6.5  7.488667\n",
       "12  14            1      3       0   6.511333  7.488667  6.5  7.488667\n",
       "13  14            4      1       3   9.927878  4.072122  6.5  4.072122\n",
       "14  14            1      4       0   6.073458  7.926542  6.5  6.073458"
      ]
     },
     "execution_count": 4,
     "metadata": {},
     "output_type": "execute_result"
    }
   ],
   "source": [
    "df['alt'] = df.apply(axis=1,\n",
    "    func = lambda x: x.hiexpect if x.depth % 2 else x.loexpect)\n",
    "df.head(15)"
   ]
  },
  {
   "cell_type": "code",
   "execution_count": 5,
   "metadata": {},
   "outputs": [
    {
     "data": {
      "text/plain": [
       "True     5649\n",
       "False    1964\n",
       "dtype: int64"
      ]
     },
     "execution_count": 5,
     "metadata": {},
     "output_type": "execute_result"
    }
   ],
   "source": [
    "y = df.apply(axis=1, func = lambda x: x.alt < x.rnd)\n",
    "#y.value_counts().plot(kind=\"bar\");\n",
    "y.value_counts()"
   ]
  },
  {
   "cell_type": "code",
   "execution_count": 6,
   "metadata": {},
   "outputs": [
    {
     "data": {
      "text/html": [
       "<div>\n",
       "<style scoped>\n",
       "    .dataframe tbody tr th:only-of-type {\n",
       "        vertical-align: middle;\n",
       "    }\n",
       "\n",
       "    .dataframe tbody tr th {\n",
       "        vertical-align: top;\n",
       "    }\n",
       "\n",
       "    .dataframe thead th {\n",
       "        text-align: right;\n",
       "    }\n",
       "</style>\n",
       "<table border=\"1\" class=\"dataframe\">\n",
       "  <thead>\n",
       "    <tr style=\"text-align: right;\">\n",
       "      <th></th>\n",
       "      <th>n</th>\n",
       "      <th>subtree_cnt</th>\n",
       "      <th>depth</th>\n",
       "      <th>height</th>\n",
       "      <th>loexpect</th>\n",
       "      <th>hiexpect</th>\n",
       "      <th>rnd</th>\n",
       "      <th>alt</th>\n",
       "      <th>isleaf</th>\n",
       "    </tr>\n",
       "  </thead>\n",
       "  <tbody>\n",
       "    <tr>\n",
       "      <th>0</th>\n",
       "      <td>9</td>\n",
       "      <td>2</td>\n",
       "      <td>4</td>\n",
       "      <td>1</td>\n",
       "      <td>3.767442</td>\n",
       "      <td>5.232558</td>\n",
       "      <td>4.0</td>\n",
       "      <td>3.767442</td>\n",
       "      <td>False</td>\n",
       "    </tr>\n",
       "    <tr>\n",
       "      <th>1</th>\n",
       "      <td>9</td>\n",
       "      <td>1</td>\n",
       "      <td>5</td>\n",
       "      <td>0</td>\n",
       "      <td>4.302326</td>\n",
       "      <td>4.697674</td>\n",
       "      <td>4.0</td>\n",
       "      <td>4.697674</td>\n",
       "      <td>True</td>\n",
       "    </tr>\n",
       "    <tr>\n",
       "      <th>2</th>\n",
       "      <td>9</td>\n",
       "      <td>6</td>\n",
       "      <td>1</td>\n",
       "      <td>4</td>\n",
       "      <td>7.395349</td>\n",
       "      <td>1.604651</td>\n",
       "      <td>4.0</td>\n",
       "      <td>1.604651</td>\n",
       "      <td>False</td>\n",
       "    </tr>\n",
       "    <tr>\n",
       "      <th>3</th>\n",
       "      <td>9</td>\n",
       "      <td>4</td>\n",
       "      <td>2</td>\n",
       "      <td>3</td>\n",
       "      <td>2.534884</td>\n",
       "      <td>6.465116</td>\n",
       "      <td>4.0</td>\n",
       "      <td>2.534884</td>\n",
       "      <td>False</td>\n",
       "    </tr>\n",
       "    <tr>\n",
       "      <th>4</th>\n",
       "      <td>9</td>\n",
       "      <td>1</td>\n",
       "      <td>2</td>\n",
       "      <td>0</td>\n",
       "      <td>2.534884</td>\n",
       "      <td>6.465116</td>\n",
       "      <td>4.0</td>\n",
       "      <td>2.534884</td>\n",
       "      <td>True</td>\n",
       "    </tr>\n",
       "  </tbody>\n",
       "</table>\n",
       "</div>"
      ],
      "text/plain": [
       "   n  subtree_cnt  depth  height  loexpect  hiexpect  rnd       alt  isleaf\n",
       "0  9            2      4       1  3.767442  5.232558  4.0  3.767442   False\n",
       "1  9            1      5       0  4.302326  4.697674  4.0  4.697674    True\n",
       "2  9            6      1       4  7.395349  1.604651  4.0  1.604651   False\n",
       "3  9            4      2       3  2.534884  6.465116  4.0  2.534884   False\n",
       "4  9            1      2       0  2.534884  6.465116  4.0  2.534884    True"
      ]
     },
     "execution_count": 6,
     "metadata": {},
     "output_type": "execute_result"
    }
   ],
   "source": [
    "df['isleaf'] = df.apply(axis=1, func = lambda x: x.height == 0)\n",
    "df.head(5)"
   ]
  },
  {
   "cell_type": "code",
   "execution_count": 40,
   "metadata": {},
   "outputs": [
    {
     "data": {
      "text/plain": [
       "(7613, 5)"
      ]
     },
     "execution_count": 40,
     "metadata": {},
     "output_type": "execute_result"
    }
   ],
   "source": [
    "X = pd.DataFrame([df.n, df.subtree_cnt,\n",
    "    df.depth, df.height, df.isleaf]).transpose()\n",
    "X['depth'] = df.depth.apply(lambda x: np.power(x, 1.7))\n",
    "X['height'] = df.height.apply(lambda x: np.power(x, 1.2))\n",
    "# TODO\n",
    "X.shape"
   ]
  },
  {
   "cell_type": "code",
   "execution_count": 41,
   "metadata": {},
   "outputs": [
    {
     "data": {
      "text/html": [
       "<div>\n",
       "<style scoped>\n",
       "    .dataframe tbody tr th:only-of-type {\n",
       "        vertical-align: middle;\n",
       "    }\n",
       "\n",
       "    .dataframe tbody tr th {\n",
       "        vertical-align: top;\n",
       "    }\n",
       "\n",
       "    .dataframe thead th {\n",
       "        text-align: right;\n",
       "    }\n",
       "</style>\n",
       "<table border=\"1\" class=\"dataframe\">\n",
       "  <thead>\n",
       "    <tr style=\"text-align: right;\">\n",
       "      <th></th>\n",
       "      <th>n</th>\n",
       "      <th>subtree_cnt</th>\n",
       "      <th>depth</th>\n",
       "      <th>height</th>\n",
       "      <th>isleaf</th>\n",
       "    </tr>\n",
       "  </thead>\n",
       "  <tbody>\n",
       "    <tr>\n",
       "      <th>0</th>\n",
       "      <td>9</td>\n",
       "      <td>2</td>\n",
       "      <td>10.556063</td>\n",
       "      <td>1.000000</td>\n",
       "      <td>0</td>\n",
       "    </tr>\n",
       "    <tr>\n",
       "      <th>1</th>\n",
       "      <td>9</td>\n",
       "      <td>1</td>\n",
       "      <td>15.425847</td>\n",
       "      <td>0.000000</td>\n",
       "      <td>1</td>\n",
       "    </tr>\n",
       "    <tr>\n",
       "      <th>2</th>\n",
       "      <td>9</td>\n",
       "      <td>6</td>\n",
       "      <td>1.000000</td>\n",
       "      <td>5.278032</td>\n",
       "      <td>0</td>\n",
       "    </tr>\n",
       "    <tr>\n",
       "      <th>3</th>\n",
       "      <td>9</td>\n",
       "      <td>4</td>\n",
       "      <td>3.249010</td>\n",
       "      <td>3.737193</td>\n",
       "      <td>0</td>\n",
       "    </tr>\n",
       "    <tr>\n",
       "      <th>4</th>\n",
       "      <td>9</td>\n",
       "      <td>1</td>\n",
       "      <td>3.249010</td>\n",
       "      <td>0.000000</td>\n",
       "      <td>1</td>\n",
       "    </tr>\n",
       "  </tbody>\n",
       "</table>\n",
       "</div>"
      ],
      "text/plain": [
       "   n  subtree_cnt      depth    height  isleaf\n",
       "0  9            2  10.556063  1.000000       0\n",
       "1  9            1  15.425847  0.000000       1\n",
       "2  9            6   1.000000  5.278032       0\n",
       "3  9            4   3.249010  3.737193       0\n",
       "4  9            1   3.249010  0.000000       1"
      ]
     },
     "execution_count": 41,
     "metadata": {},
     "output_type": "execute_result"
    }
   ],
   "source": [
    "X.head(5)"
   ]
  },
  {
   "cell_type": "code",
   "execution_count": 42,
   "metadata": {},
   "outputs": [
    {
     "name": "stdout",
     "output_type": "stream",
     "text": [
      "train score: 0.7863023296549309\n",
      "test score: 0.7872899159663865\n"
     ]
    }
   ],
   "source": [
    "from sklearn.model_selection import train_test_split\n",
    "from sklearn.linear_model import LogisticRegression\n",
    "\n",
    "X_train, X_test, y_train, y_test = train_test_split(X, y, stratify=y, random_state=525)\n",
    "model = LogisticRegression().fit(X_train, y_train)\n",
    "\n",
    "print(\"train score:\", model.score(X_train, y_train))\n",
    "print(\"test score:\", model.score(X_test, y_test))"
   ]
  },
  {
   "cell_type": "code",
   "execution_count": 43,
   "metadata": {},
   "outputs": [
    {
     "data": {
      "image/png": "[encoded data removed]",
      "text/plain": [
       "<Figure size 864x576 with 1 Axes>"
      ]
     },
     "metadata": {
      "needs_background": "light"
     },
     "output_type": "display_data"
    }
   ],
   "source": [
    "def logistic_regression_features(X, model, top=-1):\n",
    "    indices = np.argsort(np.absolute(model.coef_[0]))[::-1][:top]\n",
    "    plt.figure(figsize=(12,8))\n",
    "    barplot = sns.barplot(x=X.columns[indices], y=model.coef_[0][indices], orient='vertical')\n",
    "    plt.setp(barplot.get_xticklabels(), rotation=90)\n",
    "    plt.grid(True)\n",
    "    \n",
    "logistic_regression_features(X, model, top=20)"
   ]
  },
  {
   "cell_type": "code",
   "execution_count": 50,
   "metadata": {},
   "outputs": [
    {
     "data": {
      "image/png": "[encoded data removed]",
      "text/plain": [
       "<Figure size 648x504 with 2 Axes>"
      ]
     },
     "metadata": {
      "needs_background": "light"
     },
     "output_type": "display_data"
    }
   ],
   "source": [
    "import itertools\n",
    "from sklearn.metrics import confusion_matrix, accuracy_score\n",
    "\n",
    "def plot_confusion_matrix(y_true, y_pred, classes,\n",
    "                          normalize=False,\n",
    "                          title='Confusion matrix',\n",
    "                          cmap=plt.cm.Blues,\n",
    "                          figsize=(9, 7)):\n",
    "    matrix = confusion_matrix(y_true, y_pred)\n",
    "\n",
    "    if normalize:\n",
    "        matrix = matrix.astype('float') / matrix.sum(axis=1)[:, np.newaxis]\n",
    "\n",
    "    plt.figure(figsize=figsize)\n",
    "    plt.imshow(matrix, interpolation='nearest', cmap=cmap)\n",
    "    plt.title(title)\n",
    "    plt.colorbar()\n",
    "\n",
    "    tick_marks = np.arange(len(classes))\n",
    "    plt.xticks(tick_marks, classes, rotation=45)\n",
    "    plt.yticks(tick_marks, classes)\n",
    "\n",
    "    fmt = '.2f' if normalize else 'd'\n",
    "    thresh = matrix.max() / 2.\n",
    "    for i, j in itertools.product(range(matrix.shape[0]), range(matrix.shape[1])):\n",
    "        plt.text(j, i, format(matrix[i, j], fmt),\n",
    "                 horizontalalignment=\"center\",\n",
    "                 size=int((figsize[0] / 10) * 38),\n",
    "                 color=\"white\" if matrix[i, j] > thresh else \"black\")\n",
    "\n",
    "    plt.tight_layout()\n",
    "    plt.ylabel('True label')\n",
    "    plt.xlabel('Predicted label')\n",
    "    \n",
    "plot_confusion_matrix(y, model.predict(X), classes=['failure', 'success'])"
   ]
  },
  {
   "cell_type": "code",
   "execution_count": 63,
   "metadata": {},
   "outputs": [
    {
     "data": {
      "text/html": [
       "<div>\n",
       "<style scoped>\n",
       "    .dataframe tbody tr th:only-of-type {\n",
       "        vertical-align: middle;\n",
       "    }\n",
       "\n",
       "    .dataframe tbody tr th {\n",
       "        vertical-align: top;\n",
       "    }\n",
       "\n",
       "    .dataframe thead th {\n",
       "        text-align: right;\n",
       "    }\n",
       "</style>\n",
       "<table border=\"1\" class=\"dataframe\">\n",
       "  <thead>\n",
       "    <tr style=\"text-align: right;\">\n",
       "      <th></th>\n",
       "      <th>n</th>\n",
       "      <th>subtree_cnt</th>\n",
       "      <th>depth</th>\n",
       "      <th>height</th>\n",
       "      <th>loexpect</th>\n",
       "      <th>hiexpect</th>\n",
       "      <th>rnd</th>\n",
       "      <th>alt</th>\n",
       "      <th>isleaf</th>\n",
       "      <th>predict</th>\n",
       "      <th>expected</th>\n",
       "    </tr>\n",
       "  </thead>\n",
       "  <tbody>\n",
       "    <tr>\n",
       "      <th>5</th>\n",
       "      <td>9</td>\n",
       "      <td>3</td>\n",
       "      <td>3</td>\n",
       "      <td>2</td>\n",
       "      <td>3.883721</td>\n",
       "      <td>5.116279</td>\n",
       "      <td>4.0</td>\n",
       "      <td>5.116279</td>\n",
       "      <td>False</td>\n",
       "      <td>True</td>\n",
       "      <td>False</td>\n",
       "    </tr>\n",
       "    <tr>\n",
       "      <th>11</th>\n",
       "      <td>14</td>\n",
       "      <td>1</td>\n",
       "      <td>3</td>\n",
       "      <td>0</td>\n",
       "      <td>6.511333</td>\n",
       "      <td>7.488667</td>\n",
       "      <td>6.5</td>\n",
       "      <td>7.488667</td>\n",
       "      <td>True</td>\n",
       "      <td>True</td>\n",
       "      <td>False</td>\n",
       "    </tr>\n",
       "    <tr>\n",
       "      <th>12</th>\n",
       "      <td>14</td>\n",
       "      <td>1</td>\n",
       "      <td>3</td>\n",
       "      <td>0</td>\n",
       "      <td>6.511333</td>\n",
       "      <td>7.488667</td>\n",
       "      <td>6.5</td>\n",
       "      <td>7.488667</td>\n",
       "      <td>True</td>\n",
       "      <td>True</td>\n",
       "      <td>False</td>\n",
       "    </tr>\n",
       "    <tr>\n",
       "      <th>17</th>\n",
       "      <td>14</td>\n",
       "      <td>2</td>\n",
       "      <td>3</td>\n",
       "      <td>1</td>\n",
       "      <td>6.545650</td>\n",
       "      <td>7.454350</td>\n",
       "      <td>6.5</td>\n",
       "      <td>7.454350</td>\n",
       "      <td>False</td>\n",
       "      <td>True</td>\n",
       "      <td>False</td>\n",
       "    </tr>\n",
       "    <tr>\n",
       "      <th>20</th>\n",
       "      <td>14</td>\n",
       "      <td>1</td>\n",
       "      <td>3</td>\n",
       "      <td>0</td>\n",
       "      <td>6.503284</td>\n",
       "      <td>7.496716</td>\n",
       "      <td>6.5</td>\n",
       "      <td>7.496716</td>\n",
       "      <td>True</td>\n",
       "      <td>True</td>\n",
       "      <td>False</td>\n",
       "    </tr>\n",
       "  </tbody>\n",
       "</table>\n",
       "</div>"
      ],
      "text/plain": [
       "     n  subtree_cnt  depth  height  loexpect  hiexpect  rnd       alt  isleaf  \\\n",
       "5    9            3      3       2  3.883721  5.116279  4.0  5.116279   False   \n",
       "11  14            1      3       0  6.511333  7.488667  6.5  7.488667    True   \n",
       "12  14            1      3       0  6.511333  7.488667  6.5  7.488667    True   \n",
       "17  14            2      3       1  6.545650  7.454350  6.5  7.454350   False   \n",
       "20  14            1      3       0  6.503284  7.496716  6.5  7.496716    True   \n",
       "\n",
       "    predict  expected  \n",
       "5      True     False  \n",
       "11     True     False  \n",
       "12     True     False  \n",
       "17     True     False  \n",
       "20     True     False  "
      ]
     },
     "execution_count": 63,
     "metadata": {},
     "output_type": "execute_result"
    }
   ],
   "source": [
    "X_anal = pd.DataFrame([model.predict(X), y]).transpose()\n",
    "X_anal = X_anal.rename(columns={0: 'predict', 1: 'expected'})\n",
    "X_anal = pd.concat([df, X_anal], axis=1)\n",
    "X_anal.head(20)\n",
    "#X_anal.shape\n",
    "\n",
    "X_anal = X_anal[X_anal.predict != X_anal.expected]\n",
    "\n",
    "bv = (np.abs(X_anal.alt-X_anal.rnd) / X_anal.rnd) > 0.1\n",
    "X_anal = X_anal[bv]\n",
    "\n",
    "X_anal.head(5)"
   ]
  },
  {
   "cell_type": "code",
   "execution_count": 64,
   "metadata": {},
   "outputs": [
    {
     "data": {
      "image/png": "[encoded data removed]",
      "text/plain": [
       "<Figure size 432x288 with 1 Axes>"
      ]
     },
     "metadata": {
      "needs_background": "light"
     },
     "output_type": "display_data"
    }
   ],
   "source": [
    "X_anal.subtree_cnt.plot(kind=\"hist\");"
   ]
  },
  {
   "cell_type": "code",
   "execution_count": 65,
   "metadata": {},
   "outputs": [
    {
     "data": {
      "image/png": "[encoded data removed]",
      "text/plain": [
       "<Figure size 432x288 with 1 Axes>"
      ]
     },
     "metadata": {
      "needs_background": "light"
     },
     "output_type": "display_data"
    }
   ],
   "source": [
    "X_anal.height.plot(kind=\"hist\");"
   ]
  },
  {
   "cell_type": "code",
   "execution_count": 68,
   "metadata": {},
   "outputs": [
    {
     "data": {
      "image/png": "[encoded data removed]",
      "text/plain": [
       "<Figure size 432x288 with 1 Axes>"
      ]
     },
     "metadata": {
      "needs_background": "light"
     },
     "output_type": "display_data"
    }
   ],
   "source": [
    "#X_anal[X_anal.height < 2].predict.value_counts().plot(kind=\"bar\");"
   ]
  },
  {
   "cell_type": "code",
   "execution_count": 69,
   "metadata": {},
   "outputs": [
    {
     "data": {
      "text/plain": [
       "array([[ 0.04084652,  0.19990886, -0.15217468,  0.02842288,  0.38765058]])"
      ]
     },
     "execution_count": 69,
     "metadata": {},
     "output_type": "execute_result"
    }
   ],
   "source": [
    "model.coef_"
   ]
  },
  {
   "cell_type": "code",
   "execution_count": null,
   "metadata": {},
   "outputs": [],
   "source": []
  }
 ],
 "metadata": {
  "kernelspec": {
   "display_name": "Python 3",
   "language": "python",
   "name": "python3"
  },
  "language_info": {
   "codemirror_mode": {
    "name": "ipython",
    "version": 3
   },
   "file_extension": ".py",
   "mimetype": "text/x-python",
   "name": "python",
   "nbconvert_exporter": "python",
   "pygments_lexer": "ipython3",
   "version": "3.8.1"
  }
 },
 "nbformat": 4,
 "nbformat_minor": 2
}
