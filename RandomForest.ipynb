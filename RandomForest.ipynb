{
 "cells": [
  {
   "cell_type": "code",
   "execution_count": 1,
   "metadata": {},
   "outputs": [],
   "source": [
    "import numpy as np\n",
    "import matplotlib\n",
    "import matplotlib.pyplot as plt\n",
    "import pandas as pd\n",
    "import seaborn as sns\n",
    "\n",
    "%matplotlib inline\n",
    "\n",
    "import warnings\n",
    "warnings.simplefilter(action='ignore', category=FutureWarning)"
   ]
  },
  {
   "cell_type": "code",
   "execution_count": 2,
   "metadata": {},
   "outputs": [
    {
     "data": {
      "text/plain": [
       "(8950, 11)"
      ]
     },
     "execution_count": 2,
     "metadata": {},
     "output_type": "execute_result"
    }
   ],
   "source": [
    "df = pd.read_csv(\"~/Downloads/sort.csv\")\n",
    "df.rnd = df.apply(axis=1, func = lambda x: x.n / 2)\n",
    "df.shape"
   ]
  },
  {
   "cell_type": "code",
   "execution_count": 3,
   "metadata": {},
   "outputs": [
    {
     "data": {
      "text/html": [
       "<div>\n",
       "<style scoped>\n",
       "    .dataframe tbody tr th:only-of-type {\n",
       "        vertical-align: middle;\n",
       "    }\n",
       "\n",
       "    .dataframe tbody tr th {\n",
       "        vertical-align: top;\n",
       "    }\n",
       "\n",
       "    .dataframe thead th {\n",
       "        text-align: right;\n",
       "    }\n",
       "</style>\n",
       "<table border=\"1\" class=\"dataframe\">\n",
       "  <thead>\n",
       "    <tr style=\"text-align: right;\">\n",
       "      <th></th>\n",
       "      <th>n</th>\n",
       "      <th>subtree_cnt</th>\n",
       "      <th>depth</th>\n",
       "      <th>avg_depth</th>\n",
       "      <th>max_depth</th>\n",
       "      <th>height</th>\n",
       "      <th>avg_height</th>\n",
       "      <th>max_height</th>\n",
       "      <th>loexpect</th>\n",
       "      <th>hiexpect</th>\n",
       "      <th>rnd</th>\n",
       "    </tr>\n",
       "  </thead>\n",
       "  <tbody>\n",
       "    <tr>\n",
       "      <th>0</th>\n",
       "      <td>10</td>\n",
       "      <td>1</td>\n",
       "      <td>1</td>\n",
       "      <td>1.3</td>\n",
       "      <td>2</td>\n",
       "      <td>0</td>\n",
       "      <td>0.5</td>\n",
       "      <td>2</td>\n",
       "      <td>5.989362</td>\n",
       "      <td>4.010638</td>\n",
       "      <td>5.0</td>\n",
       "    </tr>\n",
       "    <tr>\n",
       "      <th>1</th>\n",
       "      <td>10</td>\n",
       "      <td>1</td>\n",
       "      <td>1</td>\n",
       "      <td>1.4</td>\n",
       "      <td>2</td>\n",
       "      <td>0</td>\n",
       "      <td>0.5</td>\n",
       "      <td>2</td>\n",
       "      <td>5.847222</td>\n",
       "      <td>4.152778</td>\n",
       "      <td>5.0</td>\n",
       "    </tr>\n",
       "    <tr>\n",
       "      <th>2</th>\n",
       "      <td>10</td>\n",
       "      <td>1</td>\n",
       "      <td>1</td>\n",
       "      <td>1.4</td>\n",
       "      <td>2</td>\n",
       "      <td>0</td>\n",
       "      <td>0.5</td>\n",
       "      <td>2</td>\n",
       "      <td>5.960000</td>\n",
       "      <td>4.040000</td>\n",
       "      <td>5.0</td>\n",
       "    </tr>\n",
       "    <tr>\n",
       "      <th>3</th>\n",
       "      <td>10</td>\n",
       "      <td>1</td>\n",
       "      <td>1</td>\n",
       "      <td>1.4</td>\n",
       "      <td>3</td>\n",
       "      <td>0</td>\n",
       "      <td>0.7</td>\n",
       "      <td>3</td>\n",
       "      <td>5.982323</td>\n",
       "      <td>4.017677</td>\n",
       "      <td>5.0</td>\n",
       "    </tr>\n",
       "    <tr>\n",
       "      <th>4</th>\n",
       "      <td>10</td>\n",
       "      <td>1</td>\n",
       "      <td>1</td>\n",
       "      <td>1.4</td>\n",
       "      <td>3</td>\n",
       "      <td>0</td>\n",
       "      <td>0.8</td>\n",
       "      <td>3</td>\n",
       "      <td>5.857843</td>\n",
       "      <td>4.142157</td>\n",
       "      <td>5.0</td>\n",
       "    </tr>\n",
       "    <tr>\n",
       "      <th>5</th>\n",
       "      <td>10</td>\n",
       "      <td>1</td>\n",
       "      <td>1</td>\n",
       "      <td>1.5</td>\n",
       "      <td>3</td>\n",
       "      <td>0</td>\n",
       "      <td>0.7</td>\n",
       "      <td>3</td>\n",
       "      <td>5.939394</td>\n",
       "      <td>4.060606</td>\n",
       "      <td>5.0</td>\n",
       "    </tr>\n",
       "    <tr>\n",
       "      <th>6</th>\n",
       "      <td>10</td>\n",
       "      <td>1</td>\n",
       "      <td>1</td>\n",
       "      <td>1.5</td>\n",
       "      <td>3</td>\n",
       "      <td>0</td>\n",
       "      <td>0.7</td>\n",
       "      <td>3</td>\n",
       "      <td>6.015152</td>\n",
       "      <td>3.984848</td>\n",
       "      <td>5.0</td>\n",
       "    </tr>\n",
       "    <tr>\n",
       "      <th>7</th>\n",
       "      <td>10</td>\n",
       "      <td>1</td>\n",
       "      <td>1</td>\n",
       "      <td>1.5</td>\n",
       "      <td>3</td>\n",
       "      <td>0</td>\n",
       "      <td>0.7</td>\n",
       "      <td>3</td>\n",
       "      <td>6.182390</td>\n",
       "      <td>3.817610</td>\n",
       "      <td>5.0</td>\n",
       "    </tr>\n",
       "    <tr>\n",
       "      <th>8</th>\n",
       "      <td>10</td>\n",
       "      <td>1</td>\n",
       "      <td>1</td>\n",
       "      <td>1.5</td>\n",
       "      <td>3</td>\n",
       "      <td>0</td>\n",
       "      <td>0.7</td>\n",
       "      <td>3</td>\n",
       "      <td>6.555556</td>\n",
       "      <td>3.444444</td>\n",
       "      <td>5.0</td>\n",
       "    </tr>\n",
       "    <tr>\n",
       "      <th>9</th>\n",
       "      <td>10</td>\n",
       "      <td>1</td>\n",
       "      <td>1</td>\n",
       "      <td>1.5</td>\n",
       "      <td>3</td>\n",
       "      <td>0</td>\n",
       "      <td>0.8</td>\n",
       "      <td>3</td>\n",
       "      <td>5.938596</td>\n",
       "      <td>4.061404</td>\n",
       "      <td>5.0</td>\n",
       "    </tr>\n",
       "  </tbody>\n",
       "</table>\n",
       "</div>"
      ],
      "text/plain": [
       "    n  subtree_cnt  depth  avg_depth  max_depth  height  avg_height  \\\n",
       "0  10            1      1        1.3          2       0         0.5   \n",
       "1  10            1      1        1.4          2       0         0.5   \n",
       "2  10            1      1        1.4          2       0         0.5   \n",
       "3  10            1      1        1.4          3       0         0.7   \n",
       "4  10            1      1        1.4          3       0         0.8   \n",
       "5  10            1      1        1.5          3       0         0.7   \n",
       "6  10            1      1        1.5          3       0         0.7   \n",
       "7  10            1      1        1.5          3       0         0.7   \n",
       "8  10            1      1        1.5          3       0         0.7   \n",
       "9  10            1      1        1.5          3       0         0.8   \n",
       "\n",
       "   max_height  loexpect  hiexpect  rnd  \n",
       "0           2  5.989362  4.010638  5.0  \n",
       "1           2  5.847222  4.152778  5.0  \n",
       "2           2  5.960000  4.040000  5.0  \n",
       "3           3  5.982323  4.017677  5.0  \n",
       "4           3  5.857843  4.142157  5.0  \n",
       "5           3  5.939394  4.060606  5.0  \n",
       "6           3  6.015152  3.984848  5.0  \n",
       "7           3  6.182390  3.817610  5.0  \n",
       "8           3  6.555556  3.444444  5.0  \n",
       "9           3  5.938596  4.061404  5.0  "
      ]
     },
     "execution_count": 3,
     "metadata": {},
     "output_type": "execute_result"
    }
   ],
   "source": [
    "df.head(10)"
   ]
  },
  {
   "cell_type": "code",
   "execution_count": 4,
   "metadata": {},
   "outputs": [],
   "source": [
    "scaleSubtree = df.apply(axis=1, func = lambda x: x.subtree_cnt / x.n).rename(\"ssubtree\")\n",
    "scaleDepth = df.apply(axis=1, func = lambda x: x.depth / x.avg_depth).rename(\"sdepth\")\n",
    "scaleHeight = df.apply(axis=1, func = lambda x: x.height / x.avg_height).rename(\"sheight\");"
   ]
  },
  {
   "cell_type": "code",
   "execution_count": 5,
   "metadata": {},
   "outputs": [
    {
     "data": {
      "image/png": "[encoded data removed]",
      "text/plain": [
       "<Figure size 432x288 with 1 Axes>"
      ]
     },
     "metadata": {
      "needs_background": "light"
     },
     "output_type": "display_data"
    }
   ],
   "source": [
    "scaleHeight.plot(kind=\"hist\");"
   ]
  },
  {
   "cell_type": "code",
   "execution_count": 6,
   "metadata": {},
   "outputs": [
    {
     "data": {
      "image/png": "[encoded data removed]",
      "text/plain": [
       "<Figure size 432x288 with 1 Axes>"
      ]
     },
     "metadata": {
      "needs_background": "light"
     },
     "output_type": "display_data"
    }
   ],
   "source": [
    "scaleDepth.plot(kind=\"hist\");"
   ]
  },
  {
   "cell_type": "code",
   "execution_count": 7,
   "metadata": {},
   "outputs": [
    {
     "data": {
      "image/png": "[encoded data removed]",
      "text/plain": [
       "<Figure size 432x288 with 1 Axes>"
      ]
     },
     "metadata": {
      "needs_background": "light"
     },
     "output_type": "display_data"
    }
   ],
   "source": [
    "df['alt'] = df.apply(axis=1, func = lambda x: x.hiexpect if x.depth % 2 else x.loexpect)\n",
    "importance = df.apply(axis=1, func = lambda x: (x.rnd-x.alt)/x.rnd)\n",
    "#df['importance'] = np.power(relerr, 0.5); # TODO\n",
    "importance.plot(kind=\"hist\");"
   ]
  },
  {
   "cell_type": "code",
   "execution_count": 8,
   "metadata": {},
   "outputs": [
    {
     "data": {
      "image/png": "[encoded data removed]",
      "text/plain": [
       "<Figure size 432x288 with 1 Axes>"
      ]
     },
     "metadata": {
      "needs_background": "light"
     },
     "output_type": "display_data"
    }
   ],
   "source": [
    "df['importance'] = importance\n",
    "sns.regplot(x=\"importance\", y=\"subtree_cnt\", data=df);"
   ]
  },
  {
   "cell_type": "code",
   "execution_count": 9,
   "metadata": {},
   "outputs": [
    {
     "data": {
      "text/html": [
       "<div>\n",
       "<style scoped>\n",
       "    .dataframe tbody tr th:only-of-type {\n",
       "        vertical-align: middle;\n",
       "    }\n",
       "\n",
       "    .dataframe tbody tr th {\n",
       "        vertical-align: top;\n",
       "    }\n",
       "\n",
       "    .dataframe thead th {\n",
       "        text-align: right;\n",
       "    }\n",
       "</style>\n",
       "<table border=\"1\" class=\"dataframe\">\n",
       "  <thead>\n",
       "    <tr style=\"text-align: right;\">\n",
       "      <th></th>\n",
       "      <th>n</th>\n",
       "      <th>subtree_cnt</th>\n",
       "      <th>depth</th>\n",
       "      <th>avg_depth</th>\n",
       "      <th>max_depth</th>\n",
       "      <th>height</th>\n",
       "      <th>avg_height</th>\n",
       "      <th>max_height</th>\n",
       "      <th>loexpect</th>\n",
       "      <th>hiexpect</th>\n",
       "      <th>rnd</th>\n",
       "      <th>alt</th>\n",
       "      <th>importance</th>\n",
       "      <th>isleaf</th>\n",
       "    </tr>\n",
       "  </thead>\n",
       "  <tbody>\n",
       "    <tr>\n",
       "      <th>0</th>\n",
       "      <td>10</td>\n",
       "      <td>1</td>\n",
       "      <td>1</td>\n",
       "      <td>1.3</td>\n",
       "      <td>2</td>\n",
       "      <td>0</td>\n",
       "      <td>0.5</td>\n",
       "      <td>2</td>\n",
       "      <td>5.989362</td>\n",
       "      <td>4.010638</td>\n",
       "      <td>5.0</td>\n",
       "      <td>4.010638</td>\n",
       "      <td>0.197872</td>\n",
       "      <td>True</td>\n",
       "    </tr>\n",
       "    <tr>\n",
       "      <th>1</th>\n",
       "      <td>10</td>\n",
       "      <td>1</td>\n",
       "      <td>1</td>\n",
       "      <td>1.4</td>\n",
       "      <td>2</td>\n",
       "      <td>0</td>\n",
       "      <td>0.5</td>\n",
       "      <td>2</td>\n",
       "      <td>5.847222</td>\n",
       "      <td>4.152778</td>\n",
       "      <td>5.0</td>\n",
       "      <td>4.152778</td>\n",
       "      <td>0.169444</td>\n",
       "      <td>True</td>\n",
       "    </tr>\n",
       "    <tr>\n",
       "      <th>2</th>\n",
       "      <td>10</td>\n",
       "      <td>1</td>\n",
       "      <td>1</td>\n",
       "      <td>1.4</td>\n",
       "      <td>2</td>\n",
       "      <td>0</td>\n",
       "      <td>0.5</td>\n",
       "      <td>2</td>\n",
       "      <td>5.960000</td>\n",
       "      <td>4.040000</td>\n",
       "      <td>5.0</td>\n",
       "      <td>4.040000</td>\n",
       "      <td>0.192000</td>\n",
       "      <td>True</td>\n",
       "    </tr>\n",
       "    <tr>\n",
       "      <th>3</th>\n",
       "      <td>10</td>\n",
       "      <td>1</td>\n",
       "      <td>1</td>\n",
       "      <td>1.4</td>\n",
       "      <td>3</td>\n",
       "      <td>0</td>\n",
       "      <td>0.7</td>\n",
       "      <td>3</td>\n",
       "      <td>5.982323</td>\n",
       "      <td>4.017677</td>\n",
       "      <td>5.0</td>\n",
       "      <td>4.017677</td>\n",
       "      <td>0.196465</td>\n",
       "      <td>True</td>\n",
       "    </tr>\n",
       "    <tr>\n",
       "      <th>4</th>\n",
       "      <td>10</td>\n",
       "      <td>1</td>\n",
       "      <td>1</td>\n",
       "      <td>1.4</td>\n",
       "      <td>3</td>\n",
       "      <td>0</td>\n",
       "      <td>0.8</td>\n",
       "      <td>3</td>\n",
       "      <td>5.857843</td>\n",
       "      <td>4.142157</td>\n",
       "      <td>5.0</td>\n",
       "      <td>4.142157</td>\n",
       "      <td>0.171569</td>\n",
       "      <td>True</td>\n",
       "    </tr>\n",
       "  </tbody>\n",
       "</table>\n",
       "</div>"
      ],
      "text/plain": [
       "    n  subtree_cnt  depth  avg_depth  max_depth  height  avg_height  \\\n",
       "0  10            1      1        1.3          2       0         0.5   \n",
       "1  10            1      1        1.4          2       0         0.5   \n",
       "2  10            1      1        1.4          2       0         0.5   \n",
       "3  10            1      1        1.4          3       0         0.7   \n",
       "4  10            1      1        1.4          3       0         0.8   \n",
       "\n",
       "   max_height  loexpect  hiexpect  rnd       alt  importance  isleaf  \n",
       "0           2  5.989362  4.010638  5.0  4.010638    0.197872    True  \n",
       "1           2  5.847222  4.152778  5.0  4.152778    0.169444    True  \n",
       "2           2  5.960000  4.040000  5.0  4.040000    0.192000    True  \n",
       "3           3  5.982323  4.017677  5.0  4.017677    0.196465    True  \n",
       "4           3  5.857843  4.142157  5.0  4.142157    0.171569    True  "
      ]
     },
     "execution_count": 9,
     "metadata": {},
     "output_type": "execute_result"
    }
   ],
   "source": [
    "df['isleaf'] = df.apply(axis=1, func = lambda x: x.height == 0)\n",
    "df.head(5)"
   ]
  },
  {
   "cell_type": "code",
   "execution_count": 10,
   "metadata": {},
   "outputs": [
    {
     "name": "stdout",
     "output_type": "stream",
     "text": [
      "[0.21717451867390852, 0.39815328423549895, 0.548968922203491, 0.6746486205101511, 0.7793817024323677, 0.8666592707008817, 0.93939057759131, 1.0]\n",
      "total NA: 0\n",
      "max importance: 0.8462581333333333\n"
     ]
    }
   ],
   "source": [
    "posBins = 8;\n",
    "base = 1.2;\n",
    "ranges=[]\n",
    "\n",
    "denom = (np.power(base, posBins) - 1) / (base - 1);\n",
    "for i in range(0, posBins):\n",
    "    ranges.insert(0, np.power(base, i)/denom)\n",
    "for i in range(1, posBins):\n",
    "    ranges[i] += ranges[i-1]\n",
    "ranges[-1] = 1.0\n",
    "\n",
    "print(ranges)\n",
    "\n",
    "def findBin(x):\n",
    "    if (x < 0):\n",
    "        return -1\n",
    "    for i in range(0, posBins):\n",
    "        if x < ranges[i]:\n",
    "            return i\n",
    "    return np.nan\n",
    "\n",
    "y = df.importance.apply(findBin)\n",
    "print(\"total NA:\", y.isna().sum())\n",
    "print(\"max importance:\", df.importance.max())"
   ]
  },
  {
   "cell_type": "code",
   "execution_count": 11,
   "metadata": {},
   "outputs": [
    {
     "name": "stdout",
     "output_type": "stream",
     "text": [
      "[0.21717451867390852, 0.39815328423549895, 0.548968922203491, 0.6746486205101511, 0.7793817024323677, 0.8666592707008817]\n"
     ]
    },
    {
     "data": {
      "image/png": "[encoded data removed]",
      "text/plain": [
       "<Figure size 432x288 with 1 Axes>"
      ]
     },
     "metadata": {
      "needs_background": "light"
     },
     "output_type": "display_data"
    }
   ],
   "source": [
    "maxBinIdx = y.value_counts().index.max()\n",
    "posBins = maxBinIdx + 1\n",
    "ranges = ranges[0:posBins]\n",
    "\n",
    "print(ranges)\n",
    "\n",
    "y = df.importance.apply(findBin)\n",
    "y.value_counts().plot(kind=\"bar\");"
   ]
  },
  {
   "cell_type": "code",
   "execution_count": 12,
   "metadata": {},
   "outputs": [
    {
     "data": {
      "text/html": [
       "<div>\n",
       "<style scoped>\n",
       "    .dataframe tbody tr th:only-of-type {\n",
       "        vertical-align: middle;\n",
       "    }\n",
       "\n",
       "    .dataframe tbody tr th {\n",
       "        vertical-align: top;\n",
       "    }\n",
       "\n",
       "    .dataframe thead th {\n",
       "        text-align: right;\n",
       "    }\n",
       "</style>\n",
       "<table border=\"1\" class=\"dataframe\">\n",
       "  <thead>\n",
       "    <tr style=\"text-align: right;\">\n",
       "      <th></th>\n",
       "      <th>ssubtree</th>\n",
       "      <th>sdepth</th>\n",
       "      <th>sheight</th>\n",
       "      <th>isleaf</th>\n",
       "      <th>max_depth</th>\n",
       "      <th>max_height</th>\n",
       "    </tr>\n",
       "  </thead>\n",
       "  <tbody>\n",
       "    <tr>\n",
       "      <th>0</th>\n",
       "      <td>0.1</td>\n",
       "      <td>0.769231</td>\n",
       "      <td>0.0</td>\n",
       "      <td>1.0</td>\n",
       "      <td>2.0</td>\n",
       "      <td>2.0</td>\n",
       "    </tr>\n",
       "    <tr>\n",
       "      <th>1</th>\n",
       "      <td>0.1</td>\n",
       "      <td>0.714286</td>\n",
       "      <td>0.0</td>\n",
       "      <td>1.0</td>\n",
       "      <td>2.0</td>\n",
       "      <td>2.0</td>\n",
       "    </tr>\n",
       "    <tr>\n",
       "      <th>2</th>\n",
       "      <td>0.1</td>\n",
       "      <td>0.714286</td>\n",
       "      <td>0.0</td>\n",
       "      <td>1.0</td>\n",
       "      <td>2.0</td>\n",
       "      <td>2.0</td>\n",
       "    </tr>\n",
       "    <tr>\n",
       "      <th>3</th>\n",
       "      <td>0.1</td>\n",
       "      <td>0.714286</td>\n",
       "      <td>0.0</td>\n",
       "      <td>1.0</td>\n",
       "      <td>3.0</td>\n",
       "      <td>3.0</td>\n",
       "    </tr>\n",
       "    <tr>\n",
       "      <th>4</th>\n",
       "      <td>0.1</td>\n",
       "      <td>0.714286</td>\n",
       "      <td>0.0</td>\n",
       "      <td>1.0</td>\n",
       "      <td>3.0</td>\n",
       "      <td>3.0</td>\n",
       "    </tr>\n",
       "  </tbody>\n",
       "</table>\n",
       "</div>"
      ],
      "text/plain": [
       "   ssubtree    sdepth  sheight  isleaf  max_depth  max_height\n",
       "0       0.1  0.769231      0.0     1.0        2.0         2.0\n",
       "1       0.1  0.714286      0.0     1.0        2.0         2.0\n",
       "2       0.1  0.714286      0.0     1.0        2.0         2.0\n",
       "3       0.1  0.714286      0.0     1.0        3.0         3.0\n",
       "4       0.1  0.714286      0.0     1.0        3.0         3.0"
      ]
     },
     "execution_count": 12,
     "metadata": {},
     "output_type": "execute_result"
    }
   ],
   "source": [
    "X = pd.DataFrame([scaleSubtree, scaleDepth, scaleHeight, df.isleaf, df.max_depth, df.max_height]).transpose()\n",
    "X.head(5)"
   ]
  },
  {
   "cell_type": "code",
   "execution_count": 13,
   "metadata": {},
   "outputs": [
    {
     "name": "stdout",
     "output_type": "stream",
     "text": [
      "train score: 0.816746126340882\n",
      "test score: 0.7837354781054513\n"
     ]
    }
   ],
   "source": [
    "from sklearn.model_selection import train_test_split\n",
    "from sklearn.ensemble import RandomForestClassifier\n",
    "\n",
    "X_train, X_test, y_train, y_test = train_test_split(X, y, random_state=83)\n",
    "model = RandomForestClassifier(max_depth=8, n_estimators=200, random_state=82).fit(X_train, y_train)\n",
    "\n",
    "print(\"train score:\", model.score(X_train, y_train))\n",
    "print(\"test score:\", model.score(X_test, y_test))"
   ]
  },
  {
   "cell_type": "code",
   "execution_count": 14,
   "metadata": {},
   "outputs": [
    {
     "data": {
      "image/png": "[encoded data removed]",
      "text/plain": [
       "<Figure size 432x288 with 1 Axes>"
      ]
     },
     "metadata": {
      "needs_background": "light"
     },
     "output_type": "display_data"
    }
   ],
   "source": [
    "wrongBins = np.abs(model.predict(X)-y)\n",
    "wrongBins[wrongBins != 0].value_counts().plot(kind=\"bar\");"
   ]
  },
  {
   "cell_type": "code",
   "execution_count": 15,
   "metadata": {},
   "outputs": [
    {
     "data": {
      "text/html": [
       "<div>\n",
       "<style scoped>\n",
       "    .dataframe tbody tr th:only-of-type {\n",
       "        vertical-align: middle;\n",
       "    }\n",
       "\n",
       "    .dataframe tbody tr th {\n",
       "        vertical-align: top;\n",
       "    }\n",
       "\n",
       "    .dataframe thead th {\n",
       "        text-align: right;\n",
       "    }\n",
       "</style>\n",
       "<table border=\"1\" class=\"dataframe\">\n",
       "  <thead>\n",
       "    <tr style=\"text-align: right;\">\n",
       "      <th></th>\n",
       "      <th>n</th>\n",
       "      <th>subtree_cnt</th>\n",
       "      <th>depth</th>\n",
       "      <th>avg_depth</th>\n",
       "      <th>max_depth</th>\n",
       "      <th>height</th>\n",
       "      <th>avg_height</th>\n",
       "      <th>max_height</th>\n",
       "      <th>loexpect</th>\n",
       "      <th>hiexpect</th>\n",
       "      <th>rnd</th>\n",
       "      <th>alt</th>\n",
       "      <th>importance</th>\n",
       "      <th>isleaf</th>\n",
       "      <th>predict</th>\n",
       "      <th>expected</th>\n",
       "    </tr>\n",
       "  </thead>\n",
       "  <tbody>\n",
       "    <tr>\n",
       "      <th>538</th>\n",
       "      <td>10</td>\n",
       "      <td>5</td>\n",
       "      <td>2</td>\n",
       "      <td>2.1</td>\n",
       "      <td>5</td>\n",
       "      <td>3</td>\n",
       "      <td>1.5</td>\n",
       "      <td>5</td>\n",
       "      <td>1.620690</td>\n",
       "      <td>8.379310</td>\n",
       "      <td>5.0</td>\n",
       "      <td>1.620690</td>\n",
       "      <td>0.675862</td>\n",
       "      <td>False</td>\n",
       "      <td>2</td>\n",
       "      <td>4</td>\n",
       "    </tr>\n",
       "    <tr>\n",
       "      <th>575</th>\n",
       "      <td>10</td>\n",
       "      <td>6</td>\n",
       "      <td>2</td>\n",
       "      <td>2.4</td>\n",
       "      <td>5</td>\n",
       "      <td>3</td>\n",
       "      <td>1.6</td>\n",
       "      <td>5</td>\n",
       "      <td>1.307692</td>\n",
       "      <td>8.692308</td>\n",
       "      <td>5.0</td>\n",
       "      <td>1.307692</td>\n",
       "      <td>0.738462</td>\n",
       "      <td>False</td>\n",
       "      <td>4</td>\n",
       "      <td>4</td>\n",
       "    </tr>\n",
       "    <tr>\n",
       "      <th>576</th>\n",
       "      <td>10</td>\n",
       "      <td>6</td>\n",
       "      <td>2</td>\n",
       "      <td>2.5</td>\n",
       "      <td>5</td>\n",
       "      <td>3</td>\n",
       "      <td>1.5</td>\n",
       "      <td>5</td>\n",
       "      <td>1.350000</td>\n",
       "      <td>8.650000</td>\n",
       "      <td>5.0</td>\n",
       "      <td>1.350000</td>\n",
       "      <td>0.730000</td>\n",
       "      <td>False</td>\n",
       "      <td>4</td>\n",
       "      <td>4</td>\n",
       "    </tr>\n",
       "    <tr>\n",
       "      <th>577</th>\n",
       "      <td>10</td>\n",
       "      <td>6</td>\n",
       "      <td>2</td>\n",
       "      <td>2.6</td>\n",
       "      <td>5</td>\n",
       "      <td>3</td>\n",
       "      <td>1.5</td>\n",
       "      <td>5</td>\n",
       "      <td>1.600000</td>\n",
       "      <td>8.400000</td>\n",
       "      <td>5.0</td>\n",
       "      <td>1.600000</td>\n",
       "      <td>0.680000</td>\n",
       "      <td>False</td>\n",
       "      <td>4</td>\n",
       "      <td>4</td>\n",
       "    </tr>\n",
       "    <tr>\n",
       "      <th>578</th>\n",
       "      <td>10</td>\n",
       "      <td>6</td>\n",
       "      <td>2</td>\n",
       "      <td>2.6</td>\n",
       "      <td>6</td>\n",
       "      <td>4</td>\n",
       "      <td>2.1</td>\n",
       "      <td>6</td>\n",
       "      <td>1.408163</td>\n",
       "      <td>8.591837</td>\n",
       "      <td>5.0</td>\n",
       "      <td>1.408163</td>\n",
       "      <td>0.718367</td>\n",
       "      <td>False</td>\n",
       "      <td>4</td>\n",
       "      <td>4</td>\n",
       "    </tr>\n",
       "    <tr>\n",
       "      <th>579</th>\n",
       "      <td>10</td>\n",
       "      <td>6</td>\n",
       "      <td>2</td>\n",
       "      <td>2.7</td>\n",
       "      <td>6</td>\n",
       "      <td>4</td>\n",
       "      <td>2.1</td>\n",
       "      <td>6</td>\n",
       "      <td>1.451613</td>\n",
       "      <td>8.548387</td>\n",
       "      <td>5.0</td>\n",
       "      <td>1.451613</td>\n",
       "      <td>0.709677</td>\n",
       "      <td>False</td>\n",
       "      <td>4</td>\n",
       "      <td>4</td>\n",
       "    </tr>\n",
       "    <tr>\n",
       "      <th>580</th>\n",
       "      <td>10</td>\n",
       "      <td>6</td>\n",
       "      <td>2</td>\n",
       "      <td>2.8</td>\n",
       "      <td>6</td>\n",
       "      <td>4</td>\n",
       "      <td>2.1</td>\n",
       "      <td>6</td>\n",
       "      <td>1.422222</td>\n",
       "      <td>8.577778</td>\n",
       "      <td>5.0</td>\n",
       "      <td>1.422222</td>\n",
       "      <td>0.715556</td>\n",
       "      <td>False</td>\n",
       "      <td>4</td>\n",
       "      <td>4</td>\n",
       "    </tr>\n",
       "    <tr>\n",
       "      <th>581</th>\n",
       "      <td>10</td>\n",
       "      <td>6</td>\n",
       "      <td>2</td>\n",
       "      <td>2.9</td>\n",
       "      <td>6</td>\n",
       "      <td>4</td>\n",
       "      <td>2.1</td>\n",
       "      <td>6</td>\n",
       "      <td>1.380952</td>\n",
       "      <td>8.619048</td>\n",
       "      <td>5.0</td>\n",
       "      <td>1.380952</td>\n",
       "      <td>0.723810</td>\n",
       "      <td>False</td>\n",
       "      <td>4</td>\n",
       "      <td>4</td>\n",
       "    </tr>\n",
       "    <tr>\n",
       "      <th>585</th>\n",
       "      <td>10</td>\n",
       "      <td>7</td>\n",
       "      <td>1</td>\n",
       "      <td>2.0</td>\n",
       "      <td>4</td>\n",
       "      <td>3</td>\n",
       "      <td>1.1</td>\n",
       "      <td>4</td>\n",
       "      <td>8.420290</td>\n",
       "      <td>1.579710</td>\n",
       "      <td>5.0</td>\n",
       "      <td>1.579710</td>\n",
       "      <td>0.684058</td>\n",
       "      <td>False</td>\n",
       "      <td>4</td>\n",
       "      <td>4</td>\n",
       "    </tr>\n",
       "    <tr>\n",
       "      <th>586</th>\n",
       "      <td>10</td>\n",
       "      <td>7</td>\n",
       "      <td>1</td>\n",
       "      <td>2.1</td>\n",
       "      <td>4</td>\n",
       "      <td>3</td>\n",
       "      <td>1.1</td>\n",
       "      <td>4</td>\n",
       "      <td>8.488889</td>\n",
       "      <td>1.511111</td>\n",
       "      <td>5.0</td>\n",
       "      <td>1.511111</td>\n",
       "      <td>0.697778</td>\n",
       "      <td>False</td>\n",
       "      <td>4</td>\n",
       "      <td>4</td>\n",
       "    </tr>\n",
       "  </tbody>\n",
       "</table>\n",
       "</div>"
      ],
      "text/plain": [
       "      n  subtree_cnt  depth  avg_depth  max_depth  height  avg_height  \\\n",
       "538  10            5      2        2.1          5       3         1.5   \n",
       "575  10            6      2        2.4          5       3         1.6   \n",
       "576  10            6      2        2.5          5       3         1.5   \n",
       "577  10            6      2        2.6          5       3         1.5   \n",
       "578  10            6      2        2.6          6       4         2.1   \n",
       "579  10            6      2        2.7          6       4         2.1   \n",
       "580  10            6      2        2.8          6       4         2.1   \n",
       "581  10            6      2        2.9          6       4         2.1   \n",
       "585  10            7      1        2.0          4       3         1.1   \n",
       "586  10            7      1        2.1          4       3         1.1   \n",
       "\n",
       "     max_height  loexpect  hiexpect  rnd       alt  importance  isleaf  \\\n",
       "538           5  1.620690  8.379310  5.0  1.620690    0.675862   False   \n",
       "575           5  1.307692  8.692308  5.0  1.307692    0.738462   False   \n",
       "576           5  1.350000  8.650000  5.0  1.350000    0.730000   False   \n",
       "577           5  1.600000  8.400000  5.0  1.600000    0.680000   False   \n",
       "578           6  1.408163  8.591837  5.0  1.408163    0.718367   False   \n",
       "579           6  1.451613  8.548387  5.0  1.451613    0.709677   False   \n",
       "580           6  1.422222  8.577778  5.0  1.422222    0.715556   False   \n",
       "581           6  1.380952  8.619048  5.0  1.380952    0.723810   False   \n",
       "585           4  8.420290  1.579710  5.0  1.579710    0.684058   False   \n",
       "586           4  8.488889  1.511111  5.0  1.511111    0.697778   False   \n",
       "\n",
       "     predict  expected  \n",
       "538        2         4  \n",
       "575        4         4  \n",
       "576        4         4  \n",
       "577        4         4  \n",
       "578        4         4  \n",
       "579        4         4  \n",
       "580        4         4  \n",
       "581        4         4  \n",
       "585        4         4  \n",
       "586        4         4  "
      ]
     },
     "execution_count": 15,
     "metadata": {},
     "output_type": "execute_result"
    }
   ],
   "source": [
    "X_anal = pd.DataFrame([model.predict(X), y]).transpose()\n",
    "X_anal = X_anal.rename(columns={0: 'predict', 1: 'expected'})\n",
    "X_anal = pd.concat([df, X_anal], axis=1)\n",
    "\n",
    "X_anal[y == 4].head(10)"
   ]
  },
  {
   "cell_type": "code",
   "execution_count": 16,
   "metadata": {},
   "outputs": [
    {
     "data": {
      "image/png": "[encoded data removed]",
      "text/plain": [
       "<Figure size 432x288 with 1 Axes>"
      ]
     },
     "metadata": {
      "needs_background": "light"
     },
     "output_type": "display_data"
    }
   ],
   "source": [
    "X_anal[X_anal.expected == -1].predict.value_counts().plot(kind=\"bar\");"
   ]
  },
  {
   "cell_type": "code",
   "execution_count": 17,
   "metadata": {},
   "outputs": [
    {
     "data": {
      "image/png": "[encoded data removed]",
      "text/plain": [
       "<Figure size 432x288 with 1 Axes>"
      ]
     },
     "metadata": {
      "needs_background": "light"
     },
     "output_type": "display_data"
    }
   ],
   "source": [
    "X_anal[(X_anal.expected == -1) & (X_anal.predict != -1)].importance.plot(kind=\"hist\");"
   ]
  },
  {
   "cell_type": "code",
   "execution_count": 18,
   "metadata": {},
   "outputs": [
    {
     "data": {
      "image/png": "[encoded data removed]",
      "text/plain": [
       "<Figure size 720x720 with 1 Axes>"
      ]
     },
     "metadata": {
      "needs_background": "light"
     },
     "output_type": "display_data"
    }
   ],
   "source": [
    "def random_forest_features(model, X, top=-1):\n",
    "    importances = model.feature_importances_\n",
    "    std = np.std([model.feature_importances_ for tree in model.estimators_],\n",
    "                 axis=0)\n",
    "    indices = np.argsort(importances)[::-1][:top]\n",
    "    \n",
    "    plt.figure(figsize=(10, 10))\n",
    "    plt.title(\"Feature importances\")\n",
    "    plt.bar(range(indices.size), importances[indices], color=\"r\", yerr=std[indices], align=\"center\")\n",
    "    plt.xticks(range(indices.size), X.columns, rotation='vertical')\n",
    "    plt.xlim([-1, indices.size])\n",
    "    plt.show()\n",
    "\n",
    "random_forest_features(model, X, top=20)"
   ]
  },
  {
   "cell_type": "code",
   "execution_count": 19,
   "metadata": {},
   "outputs": [],
   "source": [
    "#fig = plt.figure(figsize=(5, 15))\n",
    "#ax1 = fig.add_subplot (6, 1, 1)\n",
    "#ax2 = fig.add_subplot (6, 1, 2)\n",
    "#ax3 = fig.add_subplot (6, 1, 3)\n",
    "#ax4 = fig.add_subplot (6, 1, 4)\n",
    "#ax5 = fig.add_subplot (6, 1, 5)\n",
    "#ax6 = fig.add_subplot (6, 1, 6)\n",
    "\n",
    "#pd.Series(model.predict_proba(X)[:,0])[y==-1].plot(ax=ax1, kind=\"hist\");\n",
    "#pd.Series(model.predict_proba(X)[:,1])[y==0].plot(ax=ax2, kind=\"hist\");\n",
    "#pd.Series(model.predict_proba(X)[:,2])[y==1].plot(ax=ax3, kind=\"hist\");\n",
    "#pd.Series(model.predict_proba(X)[:,3])[y==2].plot(ax=ax4, kind=\"hist\");\n",
    "#pd.Series(model.predict_proba(X)[:,4])[y==3].plot(ax=ax5, kind=\"hist\");\n",
    "#pd.Series(model.predict_proba(X)[:,5])[y==4].plot(ax=ax6, kind=\"hist\");"
   ]
  },
  {
   "cell_type": "code",
   "execution_count": 20,
   "metadata": {},
   "outputs": [
    {
     "name": "stdout",
     "output_type": "stream",
     "text": [
      "[-0.10043076827441082, 0.10858725933695426, 0.30766390145470374, 0.47356110321949496, 0.611808771356821, 0.7270151614712594, 0.8230204865666246]\n"
     ]
    }
   ],
   "source": [
    "mids = [df.importance[df.importance < 0].mean()]\n",
    "mids.append(ranges[0] / 2)\n",
    "for i in range(0, len(ranges)-1):\n",
    "    mids.append(ranges[i]*0.5 + ranges[i+1]*0.5)\n",
    "print(mids)"
   ]
  },
  {
   "cell_type": "code",
   "execution_count": 21,
   "metadata": {},
   "outputs": [
    {
     "data": {
      "image/png": "[encoded data removed]",
      "text/plain": [
       "<Figure size 432x288 with 1 Axes>"
      ]
     },
     "metadata": {
      "needs_background": "light"
     },
     "output_type": "display_data"
    }
   ],
   "source": [
    "predictImportance = pd.Series(model.predict_proba(X).dot(mids)).rename(\"predict_importance\")\n",
    "sns.regplot(x=df.importance, y=predictImportance);"
   ]
  },
  {
   "cell_type": "code",
   "execution_count": 22,
   "metadata": {},
   "outputs": [
    {
     "data": {
      "image/png": "[encoded data removed]",
      "text/plain": [
       "<Figure size 432x288 with 1 Axes>"
      ]
     },
     "metadata": {
      "needs_background": "light"
     },
     "output_type": "display_data"
    }
   ],
   "source": [
    "(df.importance-predictImportance).plot(kind=\"hist\");"
   ]
  },
  {
   "cell_type": "code",
   "execution_count": 23,
   "metadata": {},
   "outputs": [
    {
     "data": {
      "text/html": [
       "<div>\n",
       "<style scoped>\n",
       "    .dataframe tbody tr th:only-of-type {\n",
       "        vertical-align: middle;\n",
       "    }\n",
       "\n",
       "    .dataframe tbody tr th {\n",
       "        vertical-align: top;\n",
       "    }\n",
       "\n",
       "    .dataframe thead th {\n",
       "        text-align: right;\n",
       "    }\n",
       "</style>\n",
       "<table border=\"1\" class=\"dataframe\">\n",
       "  <thead>\n",
       "    <tr style=\"text-align: right;\">\n",
       "      <th></th>\n",
       "      <th>importance</th>\n",
       "      <th>predict_importance</th>\n",
       "    </tr>\n",
       "  </thead>\n",
       "  <tbody>\n",
       "    <tr>\n",
       "      <th>0</th>\n",
       "      <td>0.197872</td>\n",
       "      <td>0.124902</td>\n",
       "    </tr>\n",
       "    <tr>\n",
       "      <th>1</th>\n",
       "      <td>0.169444</td>\n",
       "      <td>0.124331</td>\n",
       "    </tr>\n",
       "    <tr>\n",
       "      <th>2</th>\n",
       "      <td>0.192000</td>\n",
       "      <td>0.124331</td>\n",
       "    </tr>\n",
       "    <tr>\n",
       "      <th>3</th>\n",
       "      <td>0.196465</td>\n",
       "      <td>0.214706</td>\n",
       "    </tr>\n",
       "    <tr>\n",
       "      <th>4</th>\n",
       "      <td>0.171569</td>\n",
       "      <td>0.214706</td>\n",
       "    </tr>\n",
       "    <tr>\n",
       "      <th>5</th>\n",
       "      <td>0.187879</td>\n",
       "      <td>0.221702</td>\n",
       "    </tr>\n",
       "    <tr>\n",
       "      <th>6</th>\n",
       "      <td>0.203030</td>\n",
       "      <td>0.221702</td>\n",
       "    </tr>\n",
       "    <tr>\n",
       "      <th>7</th>\n",
       "      <td>0.236478</td>\n",
       "      <td>0.221702</td>\n",
       "    </tr>\n",
       "    <tr>\n",
       "      <th>8</th>\n",
       "      <td>0.311111</td>\n",
       "      <td>0.221702</td>\n",
       "    </tr>\n",
       "    <tr>\n",
       "      <th>9</th>\n",
       "      <td>0.187719</td>\n",
       "      <td>0.221702</td>\n",
       "    </tr>\n",
       "    <tr>\n",
       "      <th>10</th>\n",
       "      <td>0.235233</td>\n",
       "      <td>0.221702</td>\n",
       "    </tr>\n",
       "    <tr>\n",
       "      <th>11</th>\n",
       "      <td>0.239316</td>\n",
       "      <td>0.221702</td>\n",
       "    </tr>\n",
       "    <tr>\n",
       "      <th>12</th>\n",
       "      <td>0.314286</td>\n",
       "      <td>0.274088</td>\n",
       "    </tr>\n",
       "    <tr>\n",
       "      <th>13</th>\n",
       "      <td>0.334211</td>\n",
       "      <td>0.274088</td>\n",
       "    </tr>\n",
       "    <tr>\n",
       "      <th>14</th>\n",
       "      <td>0.242784</td>\n",
       "      <td>0.274088</td>\n",
       "    </tr>\n",
       "  </tbody>\n",
       "</table>\n",
       "</div>"
      ],
      "text/plain": [
       "    importance  predict_importance\n",
       "0     0.197872            0.124902\n",
       "1     0.169444            0.124331\n",
       "2     0.192000            0.124331\n",
       "3     0.196465            0.214706\n",
       "4     0.171569            0.214706\n",
       "5     0.187879            0.221702\n",
       "6     0.203030            0.221702\n",
       "7     0.236478            0.221702\n",
       "8     0.311111            0.221702\n",
       "9     0.187719            0.221702\n",
       "10    0.235233            0.221702\n",
       "11    0.239316            0.221702\n",
       "12    0.314286            0.274088\n",
       "13    0.334211            0.274088\n",
       "14    0.242784            0.274088"
      ]
     },
     "execution_count": 23,
     "metadata": {},
     "output_type": "execute_result"
    }
   ],
   "source": [
    "pd.DataFrame([df.importance, predictImportance]).transpose().head(15)"
   ]
  },
  {
   "cell_type": "code",
   "execution_count": 24,
   "metadata": {},
   "outputs": [],
   "source": [
    "from sklearn.externals import joblib\n",
    "\n",
    "joblib.dump(model, 'predict.model');"
   ]
  }
 ],
 "metadata": {
  "kernelspec": {
   "display_name": "Python 3",
   "language": "python",
   "name": "python3"
  },
  "language_info": {
   "codemirror_mode": {
    "name": "ipython",
    "version": 3
   },
   "file_extension": ".py",
   "mimetype": "text/x-python",
   "name": "python",
   "nbconvert_exporter": "python",
   "pygments_lexer": "ipython3",
   "version": "3.8.1"
  }
 },
 "nbformat": 4,
 "nbformat_minor": 2
}
